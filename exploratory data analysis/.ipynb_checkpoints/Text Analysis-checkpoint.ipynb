{
 "cells": [
  {
   "cell_type": "code",
   "execution_count": 3,
   "metadata": {},
   "outputs": [],
   "source": [
    "import os, os.path\n",
    "os.chdir('../')"
   ]
  },
  {
   "cell_type": "code",
   "execution_count": 11,
   "metadata": {},
   "outputs": [],
   "source": [
    "import pandas as pd\n",
    "import re\n",
    "from collections import Counter"
   ]
  },
  {
   "cell_type": "code",
   "execution_count": 5,
   "metadata": {},
   "outputs": [],
   "source": [
    "data = pd.read_csv('data/processed_data.csv')"
   ]
  },
  {
   "cell_type": "code",
   "execution_count": 6,
   "metadata": {},
   "outputs": [
    {
     "data": {
      "text/html": [
       "<div>\n",
       "<style scoped>\n",
       "    .dataframe tbody tr th:only-of-type {\n",
       "        vertical-align: middle;\n",
       "    }\n",
       "\n",
       "    .dataframe tbody tr th {\n",
       "        vertical-align: top;\n",
       "    }\n",
       "\n",
       "    .dataframe thead th {\n",
       "        text-align: right;\n",
       "    }\n",
       "</style>\n",
       "<table border=\"1\" class=\"dataframe\">\n",
       "  <thead>\n",
       "    <tr style=\"text-align: right;\">\n",
       "      <th></th>\n",
       "      <th>Unnamed: 0</th>\n",
       "      <th>id</th>\n",
       "      <th>text1</th>\n",
       "      <th>text2</th>\n",
       "      <th>label</th>\n",
       "    </tr>\n",
       "  </thead>\n",
       "  <tbody>\n",
       "    <tr>\n",
       "      <th>0</th>\n",
       "      <td>0</td>\n",
       "      <td>1</td>\n",
       "      <td>﻿怎么更改花呗手机号码</td>\n",
       "      <td>我的花呗是以前的手机号码，怎么更改成现在的支付宝的号码手机号</td>\n",
       "      <td>1</td>\n",
       "    </tr>\n",
       "    <tr>\n",
       "      <th>1</th>\n",
       "      <td>1</td>\n",
       "      <td>2</td>\n",
       "      <td>也开不了花呗，就这样了？完事了</td>\n",
       "      <td>真的嘛？就是花呗付款</td>\n",
       "      <td>0</td>\n",
       "    </tr>\n",
       "    <tr>\n",
       "      <th>2</th>\n",
       "      <td>2</td>\n",
       "      <td>3</td>\n",
       "      <td>花呗冻结以后还能开通吗</td>\n",
       "      <td>我的条件可以开通花呗借款吗</td>\n",
       "      <td>0</td>\n",
       "    </tr>\n",
       "    <tr>\n",
       "      <th>3</th>\n",
       "      <td>3</td>\n",
       "      <td>4</td>\n",
       "      <td>如何得知关闭借呗</td>\n",
       "      <td>想永久关闭借呗</td>\n",
       "      <td>0</td>\n",
       "    </tr>\n",
       "    <tr>\n",
       "      <th>4</th>\n",
       "      <td>4</td>\n",
       "      <td>5</td>\n",
       "      <td>花呗扫码付钱</td>\n",
       "      <td>二维码扫描可以用花呗吗</td>\n",
       "      <td>0</td>\n",
       "    </tr>\n",
       "  </tbody>\n",
       "</table>\n",
       "</div>"
      ],
      "text/plain": [
       "   Unnamed: 0  id            text1                           text2  label\n",
       "0           0   1      ﻿怎么更改花呗手机号码  我的花呗是以前的手机号码，怎么更改成现在的支付宝的号码手机号      1\n",
       "1           1   2  也开不了花呗，就这样了？完事了                      真的嘛？就是花呗付款      0\n",
       "2           2   3      花呗冻结以后还能开通吗                   我的条件可以开通花呗借款吗      0\n",
       "3           3   4         如何得知关闭借呗                         想永久关闭借呗      0\n",
       "4           4   5           花呗扫码付钱                     二维码扫描可以用花呗吗      0"
      ]
     },
     "execution_count": 6,
     "metadata": {},
     "output_type": "execute_result"
    }
   ],
   "source": [
    "data.head()"
   ]
  },
  {
   "cell_type": "markdown",
   "metadata": {},
   "source": [
    "## Find the most frequently used terms\n",
    "发现：\n",
    "- 通过词频分析，两个字组成的高频词要比三个字组成的高频词更具有实际含义。只有针对部分特别词汇（支付宝、为什么、银行卡），三个字组成的词才有使用的意义。\n",
    "- 对于两个字组成的高频词，多数还是正确的常用词，可以在建模时使用。有一些高频二字词在字面意义上并不成立，他们存在是受了其他高频词的影响（比如“花呗”和“用花”），我们可以考虑通过二次统计和屏蔽重复字的方式进行筛选。\n",
    "- “怎么”、“什么”、“为什么”都属于高频词，这有利于我们区分不同问题类型，再判断相似性。"
   ]
  },
  {
   "cell_type": "code",
   "execution_count": 59,
   "metadata": {},
   "outputs": [],
   "source": [
    "texts = list(data['text1']) + list(data['text2'])"
   ]
  },
  {
   "cell_type": "code",
   "execution_count": 60,
   "metadata": {},
   "outputs": [],
   "source": [
    "tokens = []\n",
    "for text in texts:\n",
    "    for sentence in re.findall(r'\\w+', text):\n",
    "        for i in range(len(sentence)-1):\n",
    "            word = sentence[i:i+2]\n",
    "            tokens.append(word)\n",
    "counter = Counter(tokens)"
   ]
  },
  {
   "cell_type": "code",
   "execution_count": 61,
   "metadata": {},
   "outputs": [
    {
     "name": "stdout",
     "output_type": "stream",
     "text": [
      "花呗\t57362\n",
      "借呗\t23715\n",
      "怎么\t15832\n",
      "什么\t13911\n",
      "还款\t12650\n",
      "可以\t11157\n",
      "蚂蚁\t10928\n",
      "为什\t9660\n",
      "额度\t8591\n",
      "我的\t8078\n",
      "蚁借\t7888\n",
      "分期\t7255\n",
      "开通\t6648\n",
      "用花\t6249\n",
      "支付\t6190\n",
      "的花\t5184\n",
      "呗还\t5183\n",
      "不能\t4962\n",
      "没有\t4730\n",
      "使用\t4154\n",
      "呗分\t3914\n",
      "付款\t3559\n",
      "呗的\t3427\n",
      "不了\t3311\n",
      "付宝\t3275\n",
      "个月\t3260\n",
      "呗怎\t3113\n",
      "蚁花\t2893\n",
      "么我\t2822\n",
      "呗额\t2732\n"
     ]
    }
   ],
   "source": [
    "for a in counter.most_common(30):\n",
    "    print(a[0] + '\\t' + str(a[1]))"
   ]
  },
  {
   "cell_type": "code",
   "execution_count": 62,
   "metadata": {},
   "outputs": [],
   "source": [
    "tokens_3 = []\n",
    "texts = data['text1']\n",
    "for text in texts:\n",
    "    for sentence in re.findall(r'\\w+', text):\n",
    "        for i in range(len(sentence)-2):\n",
    "            word = sentence[i:i+3]\n",
    "            tokens_3.append(word)\n",
    "            \n",
    "counter_3 = Counter(tokens_3)"
   ]
  },
  {
   "cell_type": "code",
   "execution_count": 64,
   "metadata": {},
   "outputs": [
    {
     "name": "stdout",
     "output_type": "stream",
     "text": [
      "为什么\t4765\n",
      "蚂蚁借\t3924\n",
      "蚁借呗\t3912\n",
      "用花呗\t3103\n",
      "的花呗\t2585\n",
      "我的花\t1920\n",
      "呗分期\t1883\n",
      "花呗分\t1726\n",
      "支付宝\t1613\n",
      "呗还款\t1533\n",
      "花呗还\t1464\n",
      "呗怎么\t1445\n",
      "蚂蚁花\t1430\n",
      "蚁花呗\t1422\n",
      "呗额度\t1359\n",
      "什么我\t1259\n",
      "通花呗\t1235\n",
      "开通花\t1232\n",
      "呗可以\t1131\n",
      "花呗的\t1113\n",
      "借呗还\t1097\n",
      "银行卡\t1072\n",
      "提前还\t1044\n",
      "了花呗\t968\n",
      "花呗怎\t940\n",
      "花呗付\t939\n",
      "花呗额\t915\n",
      "可以用\t902\n",
      "什么时\t901\n",
      "么时候\t863\n"
     ]
    }
   ],
   "source": [
    "for a in counter_3.most_common(30):\n",
    "    print(a[0] + '\\t' + str(a[1]))"
   ]
  }
 ],
 "metadata": {
  "kernelspec": {
   "display_name": "Python 3",
   "language": "python",
   "name": "python3"
  },
  "language_info": {
   "codemirror_mode": {
    "name": "ipython",
    "version": 3
   },
   "file_extension": ".py",
   "mimetype": "text/x-python",
   "name": "python",
   "nbconvert_exporter": "python",
   "pygments_lexer": "ipython3",
   "version": "3.6.4"
  }
 },
 "nbformat": 4,
 "nbformat_minor": 2
}
