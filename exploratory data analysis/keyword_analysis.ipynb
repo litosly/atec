{
 "cells": [
  {
   "cell_type": "code",
   "execution_count": 1,
   "metadata": {},
   "outputs": [],
   "source": [
    "import os, os.path\n",
    "os.chdir('../')\n",
    "import pandas as pd"
   ]
  },
  {
   "cell_type": "code",
   "execution_count": 3,
   "metadata": {},
   "outputs": [],
   "source": [
    "data = pd.read_csv('data/processed_data.csv')"
   ]
  },
  {
   "cell_type": "markdown",
   "metadata": {},
   "source": [
    "## Keyword Separation\n",
    "Goal: We want to find how indicative each pair of keywords are."
   ]
  },
  {
   "cell_type": "code",
   "execution_count": 110,
   "metadata": {},
   "outputs": [
    {
     "name": "stdout",
     "output_type": "stream",
     "text": [
      "什么时候 vs. 为什么\n",
      "蚂蚁借呗借款时长为什么只能选六个月 <=> 蚂蚁借呗什么时候改的最长期***个月\n",
      "借呗的钱什么时候到 <=> 为什么在借呗借钱要那么久还不到账\n",
      "为什么我蚂蚁借呗的钱几个小时了，怎么还没到账 <=> 从借呗上借钱什么时候能到账\n",
      "借呗还完一期后额度为什么不会恢复 <=> 我的借呗忘还了，但是已经还了，什么时候能恢复额度\n",
      "蚂蚁借呗额度没有了，什么时候会恢复，现在在还款时期 <=> 为什么我的借呗没有借款额度了。什么时候可以恢复\n",
      "= count: 5\n",
      "!= count: 92\n",
      "\n",
      "怎么 vs. 什么\n",
      "= count: 566\n",
      "!= count: 1676\n",
      "\n",
      "怎么 vs. 为什么\n",
      "= count: 486\n",
      "!= count: 1273\n",
      "\n",
      "怎么 vs. 哪\n",
      "= count: 45\n",
      "!= count: 154\n",
      "\n",
      "花呗 vs. 借呗\n",
      "= count: 115\n",
      "!= count: 1785\n",
      "\n",
      "还款 vs. 退款\n",
      "= count: 79\n",
      "!= count: 263\n",
      "\n",
      "支付宝 vs. 银行卡\n",
      "= count: 13\n",
      "!= count: 107\n",
      "\n",
      "余额宝 vs. 银行卡\n",
      "= count: 4\n",
      "!= count: 53\n",
      "\n"
     ]
    }
   ],
   "source": [
    "t1 = list(data['text1'])\n",
    "t2 = list(data['text2'])\n",
    "label = list(data['label'])\n",
    "def test_keywords(target1, target2, display = False):\n",
    "    print(\"{} vs. {}\".format(target1, target2))\n",
    "    eq_cnt = 0\n",
    "    neq_cnt = 0\n",
    "\n",
    "    for a, b, c in zip(t1, t2, label):\n",
    "        d_a1 = True if target1 in a else False\n",
    "        d_a2 = True if target2 in a else False\n",
    "        d_b1 = True if target1 in b else False\n",
    "        d_b2 = True if target2 in b else False\n",
    "        if ((d_a1 and d_b2) or (d_b1 and d_a2)) and c == 1:\n",
    "            if display:\n",
    "                print(\"{} <=> {}\".format(a, b))\n",
    "            eq_cnt += 1\n",
    "        if ((d_a1 and d_b2) or (d_b1 and d_a2)) and c == 0:\n",
    "    #         print(\"{} ！= {}\".format(a, b))\n",
    "            neq_cnt += 1\n",
    "\n",
    "    print(\"= count:\", eq_cnt)\n",
    "    print(\"!= count:\", neq_cnt)\n",
    "    print()\n",
    "\n",
    "# 句子类型\n",
    "test_keywords(\"什么时候\", \"为什么\", display = True)\n",
    "test_keywords(\"怎么\", \"什么\", display = False)\n",
    "test_keywords(\"怎么\", \"为什么\", display = False)\n",
    "# test_keywords(\"怎么\", \"哪\", display = False)\n",
    "\n",
    "# 内容\n",
    "test_keywords(\"花呗\", \"借呗\", display = False)\n",
    "test_keywords(\"还款\", \"退款\", display = False)\n",
    "test_keywords(\"支付宝\", \"银行卡\", display = False)\n",
    "test_keywords(\"余额宝\", \"银行卡\", display = False)"
   ]
  }
 ],
 "metadata": {
  "kernelspec": {
   "display_name": "Python 3",
   "language": "python",
   "name": "python3"
  },
  "language_info": {
   "codemirror_mode": {
    "name": "ipython",
    "version": 3
   },
   "file_extension": ".py",
   "mimetype": "text/x-python",
   "name": "python",
   "nbconvert_exporter": "python",
   "pygments_lexer": "ipython3",
   "version": "3.6.5"
  }
 },
 "nbformat": 4,
 "nbformat_minor": 2
}
